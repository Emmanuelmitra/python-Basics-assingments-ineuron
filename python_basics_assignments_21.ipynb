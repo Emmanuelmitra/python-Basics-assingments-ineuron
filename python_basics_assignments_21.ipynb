{
  "nbformat": 4,
  "nbformat_minor": 0,
  "metadata": {
    "colab": {
      "provenance": []
    },
    "kernelspec": {
      "name": "python3",
      "display_name": "Python 3"
    },
    "language_info": {
      "name": "python"
    }
  },
  "cells": [
    {
      "cell_type": "code",
      "execution_count": 1,
      "metadata": {
        "id": "0jq9dwbIjI3Y"
      },
      "outputs": [],
      "source": [
        "# 1\n",
        "import datetime\n",
        "\n",
        "# get the current date\n",
        "now = datetime.datetime.now()\n",
        "\n",
        "# format the date as a string\n",
        "date_str = now.strftime(\"%Y-%m-%d\")\n",
        "\n",
        "# open the file \"today.txt\" in write mode and write the date string to it\n",
        "with open(\"today.txt\", \"w\") as f:\n",
        "    f.write(date_str)\n"
      ]
    },
    {
      "cell_type": "code",
      "source": [
        "# 2\n",
        "# open the file \"today.txt\" in read mode and read the contents into the variable today_string\n",
        "with open(\"today.txt\", \"r\") as f:\n",
        "    today_string = f.read()\n"
      ],
      "metadata": {
        "id": "qwlJy4pajU8b"
      },
      "execution_count": 2,
      "outputs": []
    },
    {
      "cell_type": "code",
      "source": [
        "# 3\n",
        "import datetime\n",
        "\n",
        "# parse the date from the \"today_string\" string\n",
        "date = datetime.datetime.strptime(today_string, \"%Y-%m-%d\")\n"
      ],
      "metadata": {
        "id": "s9d54MMmjW_v"
      },
      "execution_count": 3,
      "outputs": []
    },
    {
      "cell_type": "code",
      "source": [
        "# 4\n",
        "import os\n",
        "\n",
        "# get a list of the files in the current directory\n",
        "files = os.listdir(\".\")\n",
        "\n",
        "# print the list of files\n",
        "print(files)\n"
      ],
      "metadata": {
        "colab": {
          "base_uri": "https://localhost:8080/"
        },
        "id": "wExX41CBjYjC",
        "outputId": "8b78834b-a74d-4a32-eee3-b92261658c7b"
      },
      "execution_count": 4,
      "outputs": [
        {
          "output_type": "stream",
          "name": "stdout",
          "text": [
            "['.config', 'today.txt', 'sample_data']\n"
          ]
        }
      ]
    },
    {
      "cell_type": "code",
      "source": [
        "# 5\n",
        "import os\n",
        "\n",
        "# Get the current working directory\n",
        "cwd = os.getcwd()\n",
        "\n",
        "# Get the parent directory\n",
        "parent_dir = os.path.dirname(cwd)\n",
        "\n",
        "# Get a list of all files in the parent directory\n",
        "files = os.listdir(parent_dir)\n",
        "\n",
        "# Print the files\n",
        "for file in files:\n",
        "    print(file)\n"
      ],
      "metadata": {
        "colab": {
          "base_uri": "https://localhost:8080/"
        },
        "id": "OhUC0QyijalT",
        "outputId": "9eee1c54-38cb-401b-ca9a-31ee9c5fa25a"
      },
      "execution_count": 5,
      "outputs": [
        {
          "output_type": "stream",
          "name": "stdout",
          "text": [
            "opt\n",
            "proc\n",
            "etc\n",
            "sys\n",
            "usr\n",
            "home\n",
            "boot\n",
            "root\n",
            "srv\n",
            "bin\n",
            "lib64\n",
            "var\n",
            "lib\n",
            "run\n",
            "dev\n",
            "mnt\n",
            "sbin\n",
            "media\n",
            "tmp\n",
            "content\n",
            ".dockerenv\n",
            "tools\n",
            "datalab\n",
            "lib32\n",
            "python-apt\n",
            "NGC-DL-CONTAINER-LICENSE\n"
          ]
        }
      ]
    },
    {
      "cell_type": "code",
      "source": [
        "# 6\n",
        "import multiprocessing\n",
        "import random\n",
        "import time\n",
        "\n",
        "def process_function():\n",
        "    # Sleep for a random number of seconds between 1 and 5\n",
        "    time.sleep(random.randint(1, 5))\n",
        "\n",
        "    # Print the current time\n",
        "    print(time.ctime())\n",
        "\n",
        "# Create three processes\n",
        "p1 = multiprocessing.Process(target=process_function)\n",
        "p2 = iprocessing.Process(target=process_function)\n",
        "p3 = iprocessing.Process(target=process_function)\n",
        "\n",
        "# Start the processes\n",
        "p1.start()\n",
        "p2.start()\n",
        "p3.start()\n",
        "\n",
        "# Wait for the processes to complete\n",
        "p1.join()\n",
        "p2.join()\n",
        "p3.join()\n"
      ],
      "metadata": {
        "id": "O0vZZhDFlHQT"
      },
      "execution_count": null,
      "outputs": []
    },
    {
      "cell_type": "code",
      "source": [
        "# 7\n",
        "import datetime\n",
        "\n",
        "# Replace month, day, and year with your own values\n",
        "day_of_birth = datetime.datetime(2012, 2, 1)\n"
      ],
      "metadata": {
        "id": "VxTVmO-1ksuh"
      },
      "execution_count": 11,
      "outputs": []
    },
    {
      "cell_type": "code",
      "source": [
        "# 8\n",
        "# To find out what day of the week your day of birth was, you can use the weekday() method of the date object as"
      ],
      "metadata": {
        "id": "GiR2F-HOkcko"
      },
      "execution_count": null,
      "outputs": []
    },
    {
      "cell_type": "code",
      "source": [
        "# 9\n",
        "import datetime\n",
        "\n",
        "# Replace month, day, and year with your own values\n",
        "day_of_birth = datetime.datetime(year, month, day)\n",
        "\n",
        "# Calculate the number of days between your day of birth and today\n",
        "age_in_days = (datetime.datetime.now() - day_of_birth).days\n",
        "\n",
        "# Calculate the number of days until you will be (or until you were) 10,000 days old\n",
        "days_until_10000 = 10000 - age_in_days\n",
        "\n",
        "# Calculate the date when you will be (or when you were) 10,000 days old\n",
        "date_10000_days_old = day_of_birth + datetime.timedelta(days=days_until_10000)\n",
        "\n",
        "# Print the date when you will be (or when you were) 10,000 days old\n",
        "print(date_10000_days_old)\n"
      ],
      "metadata": {
        "id": "_wz2-KgglQXh"
      },
      "execution_count": 15,
      "outputs": []
    },
    {
      "cell_type": "code",
      "source": [],
      "metadata": {
        "id": "Og44QYXwlRLO"
      },
      "execution_count": null,
      "outputs": []
    }
  ]
}