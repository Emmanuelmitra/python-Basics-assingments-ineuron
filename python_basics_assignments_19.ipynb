{
  "nbformat": 4,
  "nbformat_minor": 0,
  "metadata": {
    "colab": {
      "provenance": []
    },
    "kernelspec": {
      "name": "python3",
      "display_name": "Python 3"
    },
    "language_info": {
      "name": "python"
    }
  },
  "cells": [
    {
      "cell_type": "code",
      "execution_count": 1,
      "metadata": {
        "colab": {
          "base_uri": "https://localhost:8080/"
        },
        "id": "FwlOoPHNhA7O",
        "outputId": "0c989829-5bc0-4172-dc84-305d7ba3ff04"
      },
      "outputs": [
        {
          "output_type": "stream",
          "name": "stdout",
          "text": [
            "<class '__main__.Thing'>\n",
            "<__main__.Thing object at 0x7f2bc64af8b0>\n"
          ]
        }
      ],
      "source": [
        "# 1\n",
        "class Thing:\n",
        "    pass\n",
        "\n",
        "print(Thing)\n",
        "\n",
        "example = Thing()\n",
        "print(example)\n"
      ]
    },
    {
      "cell_type": "code",
      "source": [
        "# 2\n",
        "class Thing2:\n",
        "    letters = 'abc'\n",
        "\n",
        "print(Thing2.letters)\n"
      ],
      "metadata": {
        "colab": {
          "base_uri": "https://localhost:8080/"
        },
        "id": "9S48u2kBhIqZ",
        "outputId": "69e40ea2-b14a-41be-af77-8d93bf3a5849"
      },
      "execution_count": 2,
      "outputs": [
        {
          "output_type": "stream",
          "name": "stdout",
          "text": [
            "abc\n"
          ]
        }
      ]
    },
    {
      "cell_type": "code",
      "source": [
        "# 3\n",
        "class Thing3:\n",
        "    def __init__(self):\n",
        "        self.letters = 'xyz'\n",
        "\n",
        "thing3 = Thing3()\n",
        "print(thing3.letters)\n"
      ],
      "metadata": {
        "colab": {
          "base_uri": "https://localhost:8080/"
        },
        "id": "259DsIRshL4r",
        "outputId": "95b346db-20c6-4b76-ca2c-d750809e5b8c"
      },
      "execution_count": 3,
      "outputs": [
        {
          "output_type": "stream",
          "name": "stdout",
          "text": [
            "xyz\n"
          ]
        }
      ]
    },
    {
      "cell_type": "code",
      "source": [
        "# 4\n",
        "class Element:\n",
        "    def __init__(self, name, symbol, number):\n",
        "        self.name = name\n",
        "        self.symbol = symbol\n",
        "        self.number = number\n",
        "\n",
        "hydrogen = Element('Hydrogen', 'H', 1)\n"
      ],
      "metadata": {
        "id": "v0NKtrrjhO_0"
      },
      "execution_count": 4,
      "outputs": []
    },
    {
      "cell_type": "code",
      "source": [
        "# 5\n",
        "class Element:\n",
        "    def __init__(self, element_dict):\n",
        "        self.name = element_dict['name']\n",
        "        self.symbol = element_dict['symbol']\n",
        "        self.number = element_dict['number']\n",
        "\n",
        "element_dict = {'name': 'Hydrogen', 'symbol': 'H', 'number': 1}\n",
        "hydrogen = Element(element_dict)\n"
      ],
      "metadata": {
        "id": "Adk0djiphSLv"
      },
      "execution_count": 5,
      "outputs": []
    },
    {
      "cell_type": "code",
      "source": [],
      "metadata": {
        "id": "qOVwmcSZhUxy"
      },
      "execution_count": null,
      "outputs": []
    }
  ]
}