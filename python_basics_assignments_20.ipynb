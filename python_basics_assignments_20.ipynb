{
  "nbformat": 4,
  "nbformat_minor": 0,
  "metadata": {
    "colab": {
      "provenance": []
    },
    "kernelspec": {
      "name": "python3",
      "display_name": "Python 3"
    },
    "language_info": {
      "name": "python"
    }
  },
  "cells": [
    {
      "cell_type": "code",
      "execution_count": 1,
      "metadata": {
        "id": "jxyshCHeh8UV"
      },
      "outputs": [],
      "source": [
        "# 1\n",
        "test1 = 'This is a test of the emergency text system,'\n",
        "with open('test.txt', 'w') as f:\n",
        "    f.write(test1)\n"
      ]
    },
    {
      "cell_type": "code",
      "source": [
        "# 2\n",
        "with open('test.txt', 'r') as f:\n",
        "    test2 = f.read()\n",
        "print(test1 == test2)\n"
      ],
      "metadata": {
        "colab": {
          "base_uri": "https://localhost:8080/"
        },
        "id": "wxHP5K0OiXg4",
        "outputId": "dbd021a3-27ec-4559-fd1e-1709308594ce"
      },
      "execution_count": 2,
      "outputs": [
        {
          "output_type": "stream",
          "name": "stdout",
          "text": [
            "True\n"
          ]
        }
      ]
    },
    {
      "cell_type": "code",
      "source": [
        "# 3\n",
        "import csv\n",
        "\n",
        "data = [    ['title', 'author', 'year'],\n",
        "    ['The Weirdstone of Brisingamen', 'Alan Garner', 1960],\n",
        "    ['Perdido Street Station', 'China Miéville', 2000],\n",
        "    ['Thud!', 'Terry Pratchett', 2005],\n",
        "    ['The Spellman Files', 'Lisa Lutz', 2007],\n",
        "    ['Small Gods', 'Terry Pratchett', 1992],\n",
        "]\n",
        "\n",
        "with open('books.csv', 'w', newline='') as f:\n",
        "    writer = csv.writer(f)\n",
        "    writer.writerows(data)\n"
      ],
      "metadata": {
        "id": "ZqGQepw8iaIQ"
      },
      "execution_count": 3,
      "outputs": []
    },
    {
      "cell_type": "code",
      "source": [
        "# 4\n",
        "import sqlite3\n",
        "\n",
        "conn = sqlite3.connect('books.db')\n",
        "cursor = conn.cursor()\n",
        "cursor.execute(\"CREATE TABLE books (title text, author text, year integer)\")\n",
        "conn.commit()\n",
        "conn.close()\n"
      ],
      "metadata": {
        "id": "PGWDAlgaib22"
      },
      "execution_count": 4,
      "outputs": []
    },
    {
      "cell_type": "code",
      "source": [
        "# 5\n",
        "import csv\n",
        "import sqlite3\n",
        "\n",
        "conn = sqlite3.connect('books.db')\n",
        "cursor = conn.cursor()\n",
        "\n",
        "with open('books.csv', 'r') as f:\n",
        "    reader = csv.reader(f)\n",
        "    next(reader)  # skip the header row\n",
        "    for row in reader:\n",
        "        cursor.execute(\"INSERT INTO books (title, author, year) VALUES (?, ?, ?)\", row)\n",
        "\n",
        "conn.commit()\n",
        "conn.close()\n"
      ],
      "metadata": {
        "id": "csPKpYshidh4"
      },
      "execution_count": 5,
      "outputs": []
    },
    {
      "cell_type": "code",
      "source": [
        "# 6\n",
        "import sqlite3\n",
        "\n",
        "conn = sqlite3.connect('books.db')\n",
        "cursor = conn.cursor()\n",
        "\n",
        "cursor.execute(\"SELECT title FROM books ORDER BY title ASC\")\n",
        "titles = cursor.fetchall()\n",
        "\n",
        "for title in titles:\n",
        "    print(title[0])\n",
        "\n",
        "conn.close()\n"
      ],
      "metadata": {
        "colab": {
          "base_uri": "https://localhost:8080/"
        },
        "id": "xtecY6w5ifhD",
        "outputId": "afe8af6e-b29c-4468-cf04-70a4f4e7cfa4"
      },
      "execution_count": 6,
      "outputs": [
        {
          "output_type": "stream",
          "name": "stdout",
          "text": [
            "Perdido Street Station\n",
            "Small Gods\n",
            "The Spellman Files\n",
            "The Weirdstone of Brisingamen\n",
            "Thud!\n"
          ]
        }
      ]
    },
    {
      "cell_type": "code",
      "source": [
        "# 7\n",
        "import sqlite3\n",
        "\n",
        "conn = sqlite3.connect('books.db')\n",
        "cursor = conn.cursor()\n",
        "\n",
        "cursor.execute(\"SELECT * FROM books ORDER BY year ASC\")\n",
        "books = cursor.fetchall()\n",
        "\n",
        "for book in books:\n",
        "    print(book)\n",
        "\n",
        "conn.close()\n"
      ],
      "metadata": {
        "colab": {
          "base_uri": "https://localhost:8080/"
        },
        "id": "EWQuR6vAii13",
        "outputId": "5c2d0e7c-d00f-4b56-80e9-6a0d880c800e"
      },
      "execution_count": 7,
      "outputs": [
        {
          "output_type": "stream",
          "name": "stdout",
          "text": [
            "('The Weirdstone of Brisingamen', 'Alan Garner', 1960)\n",
            "('Small Gods', 'Terry Pratchett', 1992)\n",
            "('Perdido Street Station', 'China Miéville', 2000)\n",
            "('Thud!', 'Terry Pratchett', 2005)\n",
            "('The Spellman Files', 'Lisa Lutz', 2007)\n"
          ]
        }
      ]
    },
    {
      "cell_type": "code",
      "source": [
        "# 8\n",
        "import sqlalchemy\n",
        "\n",
        "engine = sqlalchemy.create_engine('sqlite:///books.db')\n"
      ],
      "metadata": {
        "id": "2B16JOl2imIu"
      },
      "execution_count": 8,
      "outputs": []
    },
    {
      "cell_type": "code",
      "source": [
        "# 9\n",
        "import redis\n",
        "\n",
        "r = redis.Redis()\n",
        "r.hset('test', 'count', 1)\n",
        "r.hset('test', 'name', 'Fester Bestertester')\n"
      ],
      "metadata": {
        "id": "RIbg9Bhxio2-"
      },
      "execution_count": 10,
      "outputs": []
    },
    {
      "cell_type": "code",
      "source": [
        "# 10\n",
        "import redis\n",
        "\n",
        "r = redis.Redis()\n",
        "count = r.hincrby('test', 'count', 1)\n"
      ],
      "metadata": {
        "id": "U0ycw8PuiqoO"
      },
      "execution_count": 13,
      "outputs": []
    },
    {
      "cell_type": "code",
      "source": [],
      "metadata": {
        "id": "zPMTf1HfixMf"
      },
      "execution_count": null,
      "outputs": []
    }
  ]
}